{
 "cells": [
  {
   "cell_type": "code",
   "execution_count": 14,
   "id": "7281bde7",
   "metadata": {},
   "outputs": [],
   "source": [
    "import pandas as pd\n",
    "import numpy as np\n",
    "import os\n",
    "os.chdir('C:\\\\0-ece204\\\\pr4')\n",
    "from scipy.stats import chi2_contingency\n",
    "import matplotlib.pyplot as plt"
   ]
  },
  {
   "cell_type": "code",
   "execution_count": 15,
   "id": "2c36d1c4",
   "metadata": {},
   "outputs": [
    {
     "data": {
      "text/plain": [
       "Index(['patient_id', 'type', 'age_at_initial_pathologic_diagnosis', 'gender',\n",
       "       'race', 'ajcc_pathologic_tumor_stage', 'histological_type',\n",
       "       'histological_grade', 'tumor_status', 'vital_status', 'OS', 'OS.time',\n",
       "       'DSS', 'DSS.time', 'DFI', 'DFI.time', 'PFI', 'PFI.time', 'Redaction',\n",
       "       'Sample ID', 'Diagnosis Age',\n",
       "       'Neoplasm Disease Stage American Joint Committee on Cancer Code',\n",
       "       'American Joint Committee on Cancer Publication Version Type',\n",
       "       'Aneuploidy Score', 'Buffa Hypoxia Score', 'Cancer Type',\n",
       "       'TCGA PanCanAtlas Cancer Type Acronym', 'Cancer Type Detailed',\n",
       "       'Last Communication Contact from Initial Pathologic Diagnosis Date',\n",
       "       'Birth from Initial Pathologic Diagnosis Date',\n",
       "       'Last Alive Less Initial Pathologic Diagnosis Date Calculated Day Value',\n",
       "       'Disease Free (Months)', 'Disease Free Status',\n",
       "       'Months of disease-specific survival',\n",
       "       'Disease-specific Survival status', 'Ethnicity Category',\n",
       "       'Form completion date', 'Fraction Genome Altered',\n",
       "       'Neoplasm Histologic Grade',\n",
       "       'Neoadjuvant Therapy Type Administered Prior To Resection Text',\n",
       "       'ICD-10 Classification',\n",
       "       'International Classification of Diseases for Oncology, Third Edition ICD-O-3 Histology Code',\n",
       "       'International Classification of Diseases for Oncology, Third Edition ICD-O-3 Site Code',\n",
       "       'Informed consent verified', 'In PanCan Pathway Analysis',\n",
       "       'MSI MANTIS Score', 'MSIsensor Score', 'Mutation Count',\n",
       "       'New Neoplasm Event Post Initial Therapy Indicator', 'Oncotree Code',\n",
       "       'Overall Survival (Months)', 'Overall Survival Status',\n",
       "       'Other Patient ID',\n",
       "       'American Joint Committee on Cancer Metastasis Stage Code',\n",
       "       'Neoplasm Disease Lymph Node Stage American Joint Committee on Cancer Code',\n",
       "       'American Joint Committee on Cancer Tumor Stage Code',\n",
       "       'Person Neoplasm Cancer Status', 'Progress Free Survival (Months)',\n",
       "       'Progression Free Status', 'Primary Lymph Node Presentation Assessment',\n",
       "       'Prior Diagnosis', 'Race Category', 'Radiation Therapy',\n",
       "       'Ragnum Hypoxia Score', 'Number of Samples Per Patient', 'Sample Type',\n",
       "       'Sex', 'Somatic Status', 'Subtype',\n",
       "       'Tissue Prospective Collection Indicator',\n",
       "       'Tissue Retrospective Collection Indicator', 'Tissue Source Site',\n",
       "       'Tissue Source Site Code', 'TMB (nonsynonymous)',\n",
       "       'Tumor Disease Anatomic Site', 'Tumor Type', 'Patient Weight',\n",
       "       'Winter Hypoxia Score'],\n",
       "      dtype='object')"
      ]
     },
     "execution_count": 15,
     "metadata": {},
     "output_type": "execute_result"
    }
   ],
   "source": [
    "merged = pd.read_csv('merged.csv')\n",
    "merged.columns"
   ]
  },
  {
   "cell_type": "code",
   "execution_count": 16,
   "id": "53b068e1",
   "metadata": {},
   "outputs": [],
   "source": [
    "df = merged[['tumor_status','Subtype']]\n",
    "df = df.dropna()\n",
    "df = df[df['tumor_status'] != '[Discrepancy]']\n",
    "df = pd.get_dummies(df)"
   ]
  },
  {
   "cell_type": "code",
   "execution_count": 17,
   "id": "16dceb1d",
   "metadata": {},
   "outputs": [
    {
     "name": "stdout",
     "output_type": "stream",
     "text": [
      "Phi coefficient: 0.07904529699035905\n",
      "P-value: 0.08966367435388384\n"
     ]
    }
   ],
   "source": [
    "contingency_table = pd.crosstab(df['Subtype_HNSC_HPV+'], df['tumor_status_TUMOR FREE'])\n",
    "chi2,p_value,_,_ = chi2_contingency(contingency_table)\n",
    "phi_coefficient = np.sqrt(chi2/(len(df)*min(contingency_table.shape[0]-1,contingency_table.shape[1]-1)))\n",
    "print(\"Phi coefficient:\", phi_coefficient)\n",
    "print(\"P-value:\", p_value)"
   ]
  },
  {
   "cell_type": "code",
   "execution_count": 18,
   "id": "b30243b9",
   "metadata": {},
   "outputs": [
    {
     "data": {
      "image/png": "[encoded data removed]",
      "text/plain": [
       "<Figure size 432x288 with 1 Axes>"
      ]
     },
     "metadata": {
      "needs_background": "light"
     },
     "output_type": "display_data"
    }
   ],
   "source": [
    "df = merged[['vital_status','Subtype']]\n",
    "df = df.dropna()\n",
    "proportions = df.groupby('Subtype')['vital_status'].value_counts(normalize=True).unstack()\n",
    "proportions.plot(kind='bar', stacked=True)\n",
    "plt.xlabel('HPV Status')\n",
    "plt.ylabel('Proportion')\n",
    "plt.title('Proportions of Vital Status by HPV Status')\n",
    "plt.show()\n",
    "df = pd.get_dummies(df)"
   ]
  },
  {
   "cell_type": "code",
   "execution_count": 19,
   "id": "054c9899",
   "metadata": {},
   "outputs": [
    {
     "name": "stdout",
     "output_type": "stream",
     "text": [
      "Phi coefficient: 0.15497842704418438\n",
      "P-value: 0.0006260369311418409\n"
     ]
    }
   ],
   "source": [
    "contingency_table = pd.crosstab(df['Subtype_HNSC_HPV+'], df['vital_status_Alive'])\n",
    "chi2,p_value,_,_ = chi2_contingency(contingency_table)\n",
    "phi_coefficient = np.sqrt(chi2/(len(df)*min(contingency_table.shape[0]-1,contingency_table.shape[1]-1)))\n",
    "print(\"Phi coefficient:\", phi_coefficient)\n",
    "print(\"P-value:\", p_value)"
   ]
  },
  {
   "cell_type": "code",
   "execution_count": 20,
   "id": "5173ac0e",
   "metadata": {},
   "outputs": [],
   "source": [
    "df = merged[['Disease Free Status','Subtype']]\n",
    "df = df.dropna()\n",
    "df = pd.get_dummies(df)"
   ]
  },
  {
   "cell_type": "code",
   "execution_count": 21,
   "id": "3d0a92c3",
   "metadata": {},
   "outputs": [
    {
     "name": "stdout",
     "output_type": "stream",
     "text": [
      "Phi coefficient: 0.1170221375829033\n",
      "P-value: 0.20366255950523302\n"
     ]
    }
   ],
   "source": [
    "contingency_table = pd.crosstab(df['Subtype_HNSC_HPV+'], df['Disease Free Status_0:DiseaseFree'])\n",
    "chi2,p_value,_,_ = chi2_contingency(contingency_table)\n",
    "phi_coefficient = np.sqrt(chi2/(len(df)*min(contingency_table.shape[0]-1,contingency_table.shape[1]-1)))\n",
    "print(\"Phi coefficient:\", phi_coefficient)\n",
    "print(\"P-value:\", p_value)"
   ]
  },
  {
   "cell_type": "code",
   "execution_count": 22,
   "id": "5cc6c964",
   "metadata": {},
   "outputs": [],
   "source": [
    "df = merged[['Disease-specific Survival status','Subtype']]\n",
    "df = df.dropna()\n",
    "df = pd.get_dummies(df)"
   ]
  },
  {
   "cell_type": "code",
   "execution_count": 23,
   "id": "55258f26",
   "metadata": {},
   "outputs": [
    {
     "name": "stdout",
     "output_type": "stream",
     "text": [
      "Phi coefficient: 0.08629189959005065\n",
      "P-value: 0.0630577040783995\n"
     ]
    }
   ],
   "source": [
    "contingency_table = pd.crosstab(df['Subtype_HNSC_HPV+'], df['Disease-specific Survival status_0:ALIVE OR DEAD TUMOR FREE'])\n",
    "chi2,p_value,_,_ = chi2_contingency(contingency_table)\n",
    "phi_coefficient = np.sqrt(chi2/(len(df)*min(contingency_table.shape[0]-1,contingency_table.shape[1]-1)))\n",
    "print(\"Phi coefficient:\", phi_coefficient)\n",
    "print(\"P-value:\", p_value)"
   ]
  },
  {
   "cell_type": "code",
   "execution_count": 24,
   "id": "2aea80fa",
   "metadata": {},
   "outputs": [
    {
     "name": "stdout",
     "output_type": "stream",
     "text": [
      "Subtype\n",
      "HNSC_HPV+    57.972222\n",
      "HNSC_HPV-    61.496386\n",
      "Name: age_at_initial_pathologic_diagnosis, dtype: float64\n"
     ]
    }
   ],
   "source": [
    "df = merged[['age_at_initial_pathologic_diagnosis','Subtype']]\n",
    "df = df.dropna()\n",
    "means = df.groupby('Subtype')['age_at_initial_pathologic_diagnosis'].mean()\n",
    "print(means)"
   ]
  },
  {
   "cell_type": "code",
   "execution_count": 25,
   "id": "08e08ceb",
   "metadata": {},
   "outputs": [
    {
     "data": {
      "image/png": "[encoded data removed]",
      "text/plain": [
       "<Figure size 432x288 with 1 Axes>"
      ]
     },
     "metadata": {
      "needs_background": "light"
     },
     "output_type": "display_data"
    }
   ],
   "source": [
    "df = merged[['gender','Subtype']]\n",
    "df = df.dropna()\n",
    "proportions = df.groupby('Subtype')['gender'].value_counts(normalize=True).unstack()\n",
    "proportions.plot(kind='bar', stacked=True)\n",
    "plt.xlabel('HPV Status')\n",
    "plt.ylabel('Proportion')\n",
    "plt.title('Proportions of gender by HPV Status')\n",
    "plt.show()"
   ]
  },
  {
   "cell_type": "code",
   "execution_count": null,
   "id": "3590886b",
   "metadata": {},
   "outputs": [],
   "source": []
  }
 ],
 "metadata": {
  "kernelspec": {
   "display_name": "Python 3 (ipykernel)",
   "language": "python",
   "name": "python3"
  },
  "language_info": {
   "codemirror_mode": {
    "name": "ipython",
    "version": 3
   },
   "file_extension": ".py",
   "mimetype": "text/x-python",
   "name": "python",
   "nbconvert_exporter": "python",
   "pygments_lexer": "ipython3",
   "version": "3.9.7"
  }
 },
 "nbformat": 4,
 "nbformat_minor": 5
}
